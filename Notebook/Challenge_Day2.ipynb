{
 "cells": [
  {
   "cell_type": "markdown",
   "metadata": {
    "id": "zDwep1K8Erxl"
   },
   "source": [
    "**Project:** Data Minining Project for  X company"
   ]
  },
  {
   "cell_type": "code",
   "execution_count": null,
   "metadata": {
    "id": "JzIu-UWIDXHw"
   },
   "outputs": [],
   "source": []
  },
  {
   "cell_type": "markdown",
   "metadata": {
    "id": "d7-ii3uyI8KY"
   },
   "source": [
    "The CRISP-DM Framework\n",
    "\n",
    "\n",
    "The CRISP-DM methodology provides a structured approach to planning a data mining project. It is a robust and well-proven methodology.\n",
    "* Business understanding (BU): Determine Business Objectives, Assess Situation, Determine Data Mining Goals, Produce Project Plan\n",
    "\n",
    "* Data understanding (DU): Collect Initial Data, Describe Data, Explore Data, Verify Data Quality\n",
    "\n",
    "* Data preparation (DP): Select Data, Clean Data, Construct Data, Integrate Data\n",
    "\n",
    "* Modeling (M): Select modeling technique, Generate Test Design, Build Model, Assess Model\n",
    "*  Evaluation (E): Evaluate Results, Review Process, Determine Next Steps\n",
    "*  Deployment (D): Plan Deployment, Plan Monitoring and Maintenance, Produce Final Report, Review Project\n",
    "\n",
    "\n",
    "References:\n",
    "\n",
    "[What is the CRISP-DM methodology?](https://www.sv-europe.com/crisp-dm-methodology/)\n",
    "\n",
    "[Introduction to CRISP DM Framework for Data Science and Machine Learning](https://www.linkedin.com/pulse/chapter-1-introduction-crisp-dm-framework-data-science-anshul-roy/)"
   ]
  },
  {
   "cell_type": "markdown",
   "metadata": {
    "id": "5lo7Ml7tMQOf"
   },
   "source": [
    "**Data Set**\n",
    "### The data is for company X which is trying to control attrition. \n",
    "### There are two sets of data: \"Existing employees\" and \"Employees who have left\". The following attributes are available for every employee.\n",
    "\n",
    "\n",
    "*   Satisfaction Level\n",
    "\n",
    "*   Last evaluation\n",
    "\n",
    "*   Number of projects\n",
    "\n",
    "*   Average monthly hours\n",
    "\n",
    "*   Time spent at the company\n",
    "*   Whether they have had a work accident\n",
    "\n",
    "\n",
    "*  Whether they have had a promotion in the last 5 years\n",
    "\n",
    "\n",
    "*   Departments (column sales)\n",
    "\n",
    "\n",
    "*   Salary\n",
    "\n",
    "\n",
    "*  Whether the employee has left\n",
    "\n",
    "\n",
    "\n",
    "\n",
    "\n",
    "\n",
    "\n",
    "\n",
    "\n",
    "\n",
    "\n",
    "\n",
    "\n",
    "\n",
    "\n",
    "\n"
   ]
  },
  {
   "cell_type": "markdown",
   "metadata": {
    "id": "sjSj2A2sSph_"
   },
   "source": [
    "**Your Role**\n",
    " \n",
    "\n",
    "*   As data science team member X company asked you to answer this two questions.\n",
    "*  What type of employees is leaving? \n",
    "\n",
    "*   Determine which employees are prone to leave next.\n",
    "\n",
    "\n",
    "\n",
    "\n"
   ]
  },
  {
   "cell_type": "markdown",
   "metadata": {
    "id": "ajdEVA7LiBUp"
   },
   "source": [
    "Business Understanding\n",
    "\n",
    "---\n",
    "\n",
    "This step mostly focuses on understanding the Business in all the different aspects. It follows the below different steps.\n",
    "\n",
    "\n",
    "\n",
    "\n",
    "* Identify the goal and frame the business problem.\n",
    "* Prepare Analytical Goal i.e. what type of performance metric and loss function to use\n",
    "* Gather information on resource, constraints, assumptions, risks etc\n",
    "* Gather information on resource, constraints, assumptions, risks etc\n",
    "*   Prepare Work Flow Chart"
   ]
  },
  {
   "cell_type": "markdown",
   "metadata": {
    "id": "J4MwiCYzj2_u"
   },
   "source": [
    "### Write the main objectives of this project in your words?\n",
    "minimum of 100 characters"
   ]
  },
  {
   "cell_type": "code",
   "execution_count": null,
   "metadata": {
    "id": "STyLda45j1Mf"
   },
   "outputs": [],
   "source": [
    "main_objectives ='''Add your answer text here\n",
    "you can create python string using (') or (\") or 3('), like the text here. The 3(') string can be used \n",
    "to write paragraphs, comments in the beginning of functions, etc.. Your answer to the above question \n",
    "should replace this text.\n",
    "'''"
   ]
  },
  {
   "cell_type": "code",
   "execution_count": null,
   "metadata": {
    "id": "CuOlxLxKMOLI"
   },
   "outputs": [],
   "source": [
    "assert len(main_objectives) > 100 \n",
    "### BEGIN HIDDEN TESTS\n",
    "assert len(main_objectives) > 80 \n",
    "### END HIDDEN TESTS"
   ]
  },
  {
   "cell_type": "markdown",
   "metadata": {
    "id": "NyXeNxlCkbaw"
   },
   "source": [
    "### Outline the different data analysis steps you will follow to carry out the project"
   ]
  },
  {
   "cell_type": "code",
   "execution_count": null,
   "metadata": {
    "id": "rC-tl8sUksQq"
   },
   "outputs": [],
   "source": [
    "dm_outline = '''Add your answer text here\n",
    "you can create python string using (') or (\") or 3('), like the text here. The 3(') string can be used \n",
    "to write paragraphs, comments in the beginning of functions, etc.. Your answer to the above question \n",
    "should replace this text.\n",
    "'''"
   ]
  },
  {
   "cell_type": "code",
   "execution_count": null,
   "metadata": {
    "id": "-K1mWuDoksTk"
   },
   "outputs": [],
   "source": [
    "assert len(dm_outline) > 100 \n",
    "### BEGIN HIDDEN TESTS\n",
    "assert len(dm_outline) > 70 \n",
    "### END HIDDEN TESTS"
   ]
  },
  {
   "cell_type": "markdown",
   "metadata": {
    "id": "pmUDFG1wkzUy"
   },
   "source": [
    "### What metrics will you use to measure the performance of your data analysis model? \n",
    "Write the equations of the metrics here"
   ]
  },
  {
   "cell_type": "markdown",
   "metadata": {
    "id": "KCNulojKk_BP"
   },
   "source": [
    "e.g. Precision = $\\frac{TP}{(TP + FP)}$\n",
    "\n"
   ]
  },
  {
   "cell_type": "markdown",
   "metadata": {
    "id": "vLS2YHoRk_EK"
   },
   "source": [
    "Why do you choose these metrics? minimum of 100 characters"
   ]
  },
  {
   "cell_type": "code",
   "execution_count": null,
   "metadata": {
    "id": "LSynT14KlPSJ"
   },
   "outputs": [],
   "source": [
    "why_metrics = '''Add your answer text here\n",
    "you can create python string using (') or (\") or 3('), like the text here. The 3(') string can be used \n",
    "to write paragraphs, comments in the beginning of functions, etc.. Your answer to the above question \n",
    "should replace this text.\n",
    "'''"
   ]
  },
  {
   "cell_type": "code",
   "execution_count": null,
   "metadata": {
    "id": "yr-Mk0E8lPVJ"
   },
   "outputs": [],
   "source": [
    "assert len(why_metrics) > 100 \n",
    "### BEGIN HIDDEN TESTS\n",
    "assert len(why_metrics) > 80 \n",
    "### END HIDDEN TESTS"
   ]
  },
  {
   "cell_type": "markdown",
   "metadata": {
    "id": "aAo19Ip6lUtm"
   },
   "source": [
    "### How would you know if your data analysis work is a success or not?\n",
    "minimum of 100 characters"
   ]
  },
  {
   "cell_type": "code",
   "execution_count": null,
   "metadata": {
    "id": "HESsiXW5llX-"
   },
   "outputs": [],
   "source": [
    "how_success = '''Add your answer text here\n",
    "you can create python string using (') or (\") or 3('), like the text here. The 3(') string can be used \n",
    "to write paragraphs, comments in the beginning of functions, etc.. Your answer to the above question \n",
    "should replace this text.\n",
    "'''"
   ]
  },
  {
   "cell_type": "code",
   "execution_count": null,
   "metadata": {
    "id": "FdUoiMIOlmXq"
   },
   "outputs": [],
   "source": [
    "assert len(how_success) > 100 \n",
    "### BEGIN HIDDEN TESTS\n",
    "assert len(how_success) > 80 \n",
    "### END HIDDEN TESTS"
   ]
  },
  {
   "cell_type": "markdown",
   "metadata": {
    "id": "DQE6dqo6l1TZ"
   },
   "source": [
    "## What kind of challenges do you expect in your analysis?\n",
    "List at least 3 challenges"
   ]
  },
  {
   "cell_type": "code",
   "execution_count": null,
   "metadata": {
    "id": "WrAhBQhQl8Lh"
   },
   "outputs": [],
   "source": [
    "challenge_text = '''Add your answer text here\n",
    "you can create python string using (') or (\") or 3('), like the text here. The 3(') string can be used \n",
    "to write paragraphs, comments in the beginning of functions, etc.. Your answer to the above question \n",
    "should replace this text.\n",
    "'''"
   ]
  },
  {
   "cell_type": "code",
   "execution_count": null,
   "metadata": {
    "id": "EedHa-Pll8X7"
   },
   "outputs": [],
   "source": [
    "assert len(challenge_text) > 100 \n",
    "### BEGIN HIDDEN TESTS\n",
    "assert len(how_success) > 80 \n",
    "### END HIDDEN TESTS"
   ]
  },
  {
   "cell_type": "markdown",
   "metadata": {
    "id": "ZcJ8M6uWDeSE"
   },
   "source": [
    "<h2>Using the processed twitter data from yesterday's challenge</h2>.\n",
    "\n",
    "\n",
    "- Form a new data frame (named `cleanTweet`), containing columns $\\textbf{clean-text}$ and $\\textbf{polarity}$.\n",
    "\n",
    "- Write a function `text_category` that takes a value `p` and returns, depending on the value of p, a string `'positive'`, `'negative'` or `'neutral'`.\n",
    "\n",
    "- Apply this function (`text_category`) on the $\\textbf{polarity}$ column of `cleanTweet` in 1 above to form a new column called $\\textbf{score}$ in `cleanTweet`.\n",
    "\n",
    "- Visualize The $\\textbf{score}$ column using piechart and barchart\n",
    "\n",
    "<h5>Now we want to build a classification model on the clean tweet following the steps below:</h5>\n",
    "\n",
    "* Remove rows from `cleanTweet` where $\\textbf{polarity}$ $= 0$ (i.e where $\\textbf{score}$ = Neutral) and reset the frame index.\n",
    "* Construct a column $\\textbf{scoremap}$ Use the mapping {'positive':1, 'negative':0} on the $\\textbf{score}$ column\n",
    "* Create feature and target variables `(X,y)` from $\\textbf{clean-text}$ and $\\textbf{scoremap}$ columns respectively.\n",
    "* Use `train_test_split` function to construct `(X_train, y_train)` and `(X_test, y_test)` from `(X,y)`\n",
    "\n",
    "* Build an `SGDClassifier` model from the vectorize train text data. Use `CountVectorizer()` with a $\\textit{trigram}$ parameter.\n",
    "\n",
    "* Evaluate your model on the test data.\n"
   ]
  },
  {
   "cell_type": "markdown",
   "metadata": {
    "id": "85WxmGNGDcBY"
   },
   "source": [
    "### Loading Data"
   ]
  },
  {
   "cell_type": "code",
   "execution_count": 1,
   "metadata": {},
   "outputs": [
    {
     "data": {
      "text/html": [
       "<div>\n",
       "<style scoped>\n",
       "    .dataframe tbody tr th:only-of-type {\n",
       "        vertical-align: middle;\n",
       "    }\n",
       "\n",
       "    .dataframe tbody tr th {\n",
       "        vertical-align: top;\n",
       "    }\n",
       "\n",
       "    .dataframe thead th {\n",
       "        text-align: right;\n",
       "    }\n",
       "</style>\n",
       "<table border=\"1\" class=\"dataframe\">\n",
       "  <thead>\n",
       "    <tr style=\"text-align: right;\">\n",
       "      <th></th>\n",
       "      <th>Unnamed: 0</th>\n",
       "      <th>created_at</th>\n",
       "      <th>source</th>\n",
       "      <th>full_text</th>\n",
       "      <th>polarity</th>\n",
       "      <th>subjectivity</th>\n",
       "      <th>lang</th>\n",
       "      <th>favorite_count</th>\n",
       "      <th>retweet_count</th>\n",
       "      <th>possibly_sensitive</th>\n",
       "      <th>hashtags</th>\n",
       "      <th>user_mentions</th>\n",
       "      <th>place</th>\n",
       "    </tr>\n",
       "  </thead>\n",
       "  <tbody>\n",
       "    <tr>\n",
       "      <th>0</th>\n",
       "      <td>0</td>\n",
       "      <td>2022-08-07 22:31:20+00:00</td>\n",
       "      <td>['source']</td>\n",
       "      <td>RT @i_ameztoy: Extra random image (I):\\n\\nLets...</td>\n",
       "      <td>-1.250000e-01</td>\n",
       "      <td>0.190625</td>\n",
       "      <td>en</td>\n",
       "      <td>0</td>\n",
       "      <td>2</td>\n",
       "      <td>NaN</td>\n",
       "      <td>City</td>\n",
       "      <td>i_ameztoy</td>\n",
       "      <td>NaN</td>\n",
       "    </tr>\n",
       "    <tr>\n",
       "      <th>1</th>\n",
       "      <td>1</td>\n",
       "      <td>2022-08-07 22:31:16+00:00</td>\n",
       "      <td>['source']</td>\n",
       "      <td>RT @IndoPac_Info: #China's media explains the ...</td>\n",
       "      <td>-1.000000e-01</td>\n",
       "      <td>0.100000</td>\n",
       "      <td>en</td>\n",
       "      <td>0</td>\n",
       "      <td>201</td>\n",
       "      <td>NaN</td>\n",
       "      <td>China, Taiwan</td>\n",
       "      <td>IndoPac_Info</td>\n",
       "      <td>NaN</td>\n",
       "    </tr>\n",
       "    <tr>\n",
       "      <th>2</th>\n",
       "      <td>2</td>\n",
       "      <td>2022-08-07 22:31:07+00:00</td>\n",
       "      <td>['source']</td>\n",
       "      <td>China even cut off communication, they don't a...</td>\n",
       "      <td>0.000000e+00</td>\n",
       "      <td>0.000000</td>\n",
       "      <td>en</td>\n",
       "      <td>0</td>\n",
       "      <td>0</td>\n",
       "      <td>NaN</td>\n",
       "      <td>XiJinping</td>\n",
       "      <td>ZelenskyyUa</td>\n",
       "      <td>Netherlands</td>\n",
       "    </tr>\n",
       "    <tr>\n",
       "      <th>3</th>\n",
       "      <td>3</td>\n",
       "      <td>2022-08-07 22:31:06+00:00</td>\n",
       "      <td>['source']</td>\n",
       "      <td>Putin to #XiJinping : I told you my friend, Ta...</td>\n",
       "      <td>1.000000e-01</td>\n",
       "      <td>0.350000</td>\n",
       "      <td>en</td>\n",
       "      <td>0</td>\n",
       "      <td>0</td>\n",
       "      <td>NaN</td>\n",
       "      <td>XiJinping</td>\n",
       "      <td>NaN</td>\n",
       "      <td>Netherlands</td>\n",
       "    </tr>\n",
       "    <tr>\n",
       "      <th>4</th>\n",
       "      <td>4</td>\n",
       "      <td>2022-08-07 22:31:04+00:00</td>\n",
       "      <td>['source']</td>\n",
       "      <td>RT @ChinaUncensored: I’m sorry, I thought Taiw...</td>\n",
       "      <td>-6.938894e-18</td>\n",
       "      <td>0.556250</td>\n",
       "      <td>en</td>\n",
       "      <td>0</td>\n",
       "      <td>381</td>\n",
       "      <td>NaN</td>\n",
       "      <td>NaN</td>\n",
       "      <td>ChinaUncensored</td>\n",
       "      <td>Ayent, Schweiz</td>\n",
       "    </tr>\n",
       "  </tbody>\n",
       "</table>\n",
       "</div>"
      ],
      "text/plain": [
       "   Unnamed: 0                 created_at      source  \\\n",
       "0           0  2022-08-07 22:31:20+00:00  ['source']   \n",
       "1           1  2022-08-07 22:31:16+00:00  ['source']   \n",
       "2           2  2022-08-07 22:31:07+00:00  ['source']   \n",
       "3           3  2022-08-07 22:31:06+00:00  ['source']   \n",
       "4           4  2022-08-07 22:31:04+00:00  ['source']   \n",
       "\n",
       "                                           full_text      polarity  \\\n",
       "0  RT @i_ameztoy: Extra random image (I):\\n\\nLets... -1.250000e-01   \n",
       "1  RT @IndoPac_Info: #China's media explains the ... -1.000000e-01   \n",
       "2  China even cut off communication, they don't a...  0.000000e+00   \n",
       "3  Putin to #XiJinping : I told you my friend, Ta...  1.000000e-01   \n",
       "4  RT @ChinaUncensored: I’m sorry, I thought Taiw... -6.938894e-18   \n",
       "\n",
       "   subjectivity lang  favorite_count  retweet_count possibly_sensitive  \\\n",
       "0      0.190625   en               0              2                NaN   \n",
       "1      0.100000   en               0            201                NaN   \n",
       "2      0.000000   en               0              0                NaN   \n",
       "3      0.350000   en               0              0                NaN   \n",
       "4      0.556250   en               0            381                NaN   \n",
       "\n",
       "        hashtags    user_mentions           place  \n",
       "0           City        i_ameztoy             NaN  \n",
       "1  China, Taiwan     IndoPac_Info             NaN  \n",
       "2      XiJinping      ZelenskyyUa     Netherlands  \n",
       "3      XiJinping              NaN     Netherlands  \n",
       "4            NaN  ChinaUncensored  Ayent, Schweiz  "
      ]
     },
     "execution_count": 1,
     "metadata": {},
     "output_type": "execute_result"
    }
   ],
   "source": [
    "#Clean Twitter Dataset\n",
    "import pandas as pd\n",
    "tweets = pd.read_csv('../data/clean_processed_tweet.csv')\n",
    "tweets.head()"
   ]
  },
  {
   "cell_type": "markdown",
   "metadata": {},
   "source": [
    "Data exploration and pre-processing"
   ]
  },
  {
   "cell_type": "code",
   "execution_count": 2,
   "metadata": {},
   "outputs": [
    {
     "data": {
      "text/html": [
       "<div>\n",
       "<style scoped>\n",
       "    .dataframe tbody tr th:only-of-type {\n",
       "        vertical-align: middle;\n",
       "    }\n",
       "\n",
       "    .dataframe tbody tr th {\n",
       "        vertical-align: top;\n",
       "    }\n",
       "\n",
       "    .dataframe thead th {\n",
       "        text-align: right;\n",
       "    }\n",
       "</style>\n",
       "<table border=\"1\" class=\"dataframe\">\n",
       "  <thead>\n",
       "    <tr style=\"text-align: right;\">\n",
       "      <th></th>\n",
       "      <th>Unnamed: 0</th>\n",
       "      <th>created_at</th>\n",
       "      <th>source</th>\n",
       "      <th>full_text</th>\n",
       "      <th>polarity</th>\n",
       "      <th>subjectivity</th>\n",
       "      <th>lang</th>\n",
       "      <th>favorite_count</th>\n",
       "      <th>retweet_count</th>\n",
       "      <th>possibly_sensitive</th>\n",
       "      <th>hashtags</th>\n",
       "      <th>user_mentions</th>\n",
       "      <th>place</th>\n",
       "    </tr>\n",
       "  </thead>\n",
       "  <tbody>\n",
       "    <tr>\n",
       "      <th>0</th>\n",
       "      <td>False</td>\n",
       "      <td>False</td>\n",
       "      <td>False</td>\n",
       "      <td>False</td>\n",
       "      <td>False</td>\n",
       "      <td>False</td>\n",
       "      <td>False</td>\n",
       "      <td>False</td>\n",
       "      <td>False</td>\n",
       "      <td>True</td>\n",
       "      <td>False</td>\n",
       "      <td>False</td>\n",
       "      <td>True</td>\n",
       "    </tr>\n",
       "    <tr>\n",
       "      <th>1</th>\n",
       "      <td>False</td>\n",
       "      <td>False</td>\n",
       "      <td>False</td>\n",
       "      <td>False</td>\n",
       "      <td>False</td>\n",
       "      <td>False</td>\n",
       "      <td>False</td>\n",
       "      <td>False</td>\n",
       "      <td>False</td>\n",
       "      <td>True</td>\n",
       "      <td>False</td>\n",
       "      <td>False</td>\n",
       "      <td>True</td>\n",
       "    </tr>\n",
       "    <tr>\n",
       "      <th>2</th>\n",
       "      <td>False</td>\n",
       "      <td>False</td>\n",
       "      <td>False</td>\n",
       "      <td>False</td>\n",
       "      <td>False</td>\n",
       "      <td>False</td>\n",
       "      <td>False</td>\n",
       "      <td>False</td>\n",
       "      <td>False</td>\n",
       "      <td>True</td>\n",
       "      <td>False</td>\n",
       "      <td>False</td>\n",
       "      <td>False</td>\n",
       "    </tr>\n",
       "    <tr>\n",
       "      <th>3</th>\n",
       "      <td>False</td>\n",
       "      <td>False</td>\n",
       "      <td>False</td>\n",
       "      <td>False</td>\n",
       "      <td>False</td>\n",
       "      <td>False</td>\n",
       "      <td>False</td>\n",
       "      <td>False</td>\n",
       "      <td>False</td>\n",
       "      <td>True</td>\n",
       "      <td>False</td>\n",
       "      <td>True</td>\n",
       "      <td>False</td>\n",
       "    </tr>\n",
       "    <tr>\n",
       "      <th>4</th>\n",
       "      <td>False</td>\n",
       "      <td>False</td>\n",
       "      <td>False</td>\n",
       "      <td>False</td>\n",
       "      <td>False</td>\n",
       "      <td>False</td>\n",
       "      <td>False</td>\n",
       "      <td>False</td>\n",
       "      <td>False</td>\n",
       "      <td>True</td>\n",
       "      <td>True</td>\n",
       "      <td>False</td>\n",
       "      <td>False</td>\n",
       "    </tr>\n",
       "    <tr>\n",
       "      <th>...</th>\n",
       "      <td>...</td>\n",
       "      <td>...</td>\n",
       "      <td>...</td>\n",
       "      <td>...</td>\n",
       "      <td>...</td>\n",
       "      <td>...</td>\n",
       "      <td>...</td>\n",
       "      <td>...</td>\n",
       "      <td>...</td>\n",
       "      <td>...</td>\n",
       "      <td>...</td>\n",
       "      <td>...</td>\n",
       "      <td>...</td>\n",
       "    </tr>\n",
       "    <tr>\n",
       "      <th>21959</th>\n",
       "      <td>False</td>\n",
       "      <td>False</td>\n",
       "      <td>False</td>\n",
       "      <td>False</td>\n",
       "      <td>False</td>\n",
       "      <td>False</td>\n",
       "      <td>False</td>\n",
       "      <td>False</td>\n",
       "      <td>False</td>\n",
       "      <td>False</td>\n",
       "      <td>False</td>\n",
       "      <td>False</td>\n",
       "      <td>True</td>\n",
       "    </tr>\n",
       "    <tr>\n",
       "      <th>21960</th>\n",
       "      <td>False</td>\n",
       "      <td>False</td>\n",
       "      <td>False</td>\n",
       "      <td>False</td>\n",
       "      <td>False</td>\n",
       "      <td>False</td>\n",
       "      <td>False</td>\n",
       "      <td>False</td>\n",
       "      <td>False</td>\n",
       "      <td>False</td>\n",
       "      <td>False</td>\n",
       "      <td>False</td>\n",
       "      <td>False</td>\n",
       "    </tr>\n",
       "    <tr>\n",
       "      <th>21961</th>\n",
       "      <td>False</td>\n",
       "      <td>False</td>\n",
       "      <td>False</td>\n",
       "      <td>False</td>\n",
       "      <td>False</td>\n",
       "      <td>False</td>\n",
       "      <td>False</td>\n",
       "      <td>False</td>\n",
       "      <td>False</td>\n",
       "      <td>True</td>\n",
       "      <td>False</td>\n",
       "      <td>False</td>\n",
       "      <td>False</td>\n",
       "    </tr>\n",
       "    <tr>\n",
       "      <th>21962</th>\n",
       "      <td>False</td>\n",
       "      <td>False</td>\n",
       "      <td>False</td>\n",
       "      <td>False</td>\n",
       "      <td>False</td>\n",
       "      <td>False</td>\n",
       "      <td>False</td>\n",
       "      <td>False</td>\n",
       "      <td>False</td>\n",
       "      <td>True</td>\n",
       "      <td>False</td>\n",
       "      <td>False</td>\n",
       "      <td>False</td>\n",
       "    </tr>\n",
       "    <tr>\n",
       "      <th>21963</th>\n",
       "      <td>False</td>\n",
       "      <td>False</td>\n",
       "      <td>False</td>\n",
       "      <td>False</td>\n",
       "      <td>False</td>\n",
       "      <td>False</td>\n",
       "      <td>False</td>\n",
       "      <td>False</td>\n",
       "      <td>False</td>\n",
       "      <td>True</td>\n",
       "      <td>False</td>\n",
       "      <td>False</td>\n",
       "      <td>True</td>\n",
       "    </tr>\n",
       "  </tbody>\n",
       "</table>\n",
       "<p>21964 rows × 13 columns</p>\n",
       "</div>"
      ],
      "text/plain": [
       "       Unnamed: 0  created_at  source  full_text  polarity  subjectivity  \\\n",
       "0           False       False   False      False     False         False   \n",
       "1           False       False   False      False     False         False   \n",
       "2           False       False   False      False     False         False   \n",
       "3           False       False   False      False     False         False   \n",
       "4           False       False   False      False     False         False   \n",
       "...           ...         ...     ...        ...       ...           ...   \n",
       "21959       False       False   False      False     False         False   \n",
       "21960       False       False   False      False     False         False   \n",
       "21961       False       False   False      False     False         False   \n",
       "21962       False       False   False      False     False         False   \n",
       "21963       False       False   False      False     False         False   \n",
       "\n",
       "        lang  favorite_count  retweet_count  possibly_sensitive  hashtags  \\\n",
       "0      False           False          False                True     False   \n",
       "1      False           False          False                True     False   \n",
       "2      False           False          False                True     False   \n",
       "3      False           False          False                True     False   \n",
       "4      False           False          False                True      True   \n",
       "...      ...             ...            ...                 ...       ...   \n",
       "21959  False           False          False               False     False   \n",
       "21960  False           False          False               False     False   \n",
       "21961  False           False          False                True     False   \n",
       "21962  False           False          False                True     False   \n",
       "21963  False           False          False                True     False   \n",
       "\n",
       "       user_mentions  place  \n",
       "0              False   True  \n",
       "1              False   True  \n",
       "2              False  False  \n",
       "3               True  False  \n",
       "4              False  False  \n",
       "...              ...    ...  \n",
       "21959          False   True  \n",
       "21960          False  False  \n",
       "21961          False  False  \n",
       "21962          False  False  \n",
       "21963          False   True  \n",
       "\n",
       "[21964 rows x 13 columns]"
      ]
     },
     "execution_count": 2,
     "metadata": {},
     "output_type": "execute_result"
    }
   ],
   "source": [
    "tweets.isnull()"
   ]
  },
  {
   "cell_type": "code",
   "execution_count": 3,
   "metadata": {},
   "outputs": [
    {
     "name": "stdout",
     "output_type": "stream",
     "text": [
      "<class 'pandas.core.frame.DataFrame'>\n",
      "RangeIndex: 21964 entries, 0 to 21963\n",
      "Data columns (total 13 columns):\n",
      " #   Column              Non-Null Count  Dtype  \n",
      "---  ------              --------------  -----  \n",
      " 0   Unnamed: 0          21964 non-null  int64  \n",
      " 1   created_at          21964 non-null  object \n",
      " 2   source              21964 non-null  object \n",
      " 3   full_text           21964 non-null  object \n",
      " 4   polarity            21964 non-null  float64\n",
      " 5   subjectivity        21964 non-null  float64\n",
      " 6   lang                21964 non-null  object \n",
      " 7   favorite_count      21964 non-null  int64  \n",
      " 8   retweet_count       21964 non-null  int64  \n",
      " 9   possibly_sensitive  6189 non-null   object \n",
      " 10  hashtags            19108 non-null  object \n",
      " 11  user_mentions       18662 non-null  object \n",
      " 12  place               12106 non-null  object \n",
      "dtypes: float64(2), int64(3), object(8)\n",
      "memory usage: 2.2+ MB\n"
     ]
    }
   ],
   "source": [
    "tweets.info()"
   ]
  },
  {
   "cell_type": "code",
   "execution_count": 4,
   "metadata": {},
   "outputs": [
    {
     "data": {
      "text/html": [
       "<div>\n",
       "<style scoped>\n",
       "    .dataframe tbody tr th:only-of-type {\n",
       "        vertical-align: middle;\n",
       "    }\n",
       "\n",
       "    .dataframe tbody tr th {\n",
       "        vertical-align: top;\n",
       "    }\n",
       "\n",
       "    .dataframe thead th {\n",
       "        text-align: right;\n",
       "    }\n",
       "</style>\n",
       "<table border=\"1\" class=\"dataframe\">\n",
       "  <thead>\n",
       "    <tr style=\"text-align: right;\">\n",
       "      <th></th>\n",
       "      <th>Unnamed: 0</th>\n",
       "      <th>polarity</th>\n",
       "      <th>subjectivity</th>\n",
       "      <th>favorite_count</th>\n",
       "      <th>retweet_count</th>\n",
       "    </tr>\n",
       "  </thead>\n",
       "  <tbody>\n",
       "    <tr>\n",
       "      <th>count</th>\n",
       "      <td>21964.000000</td>\n",
       "      <td>21964.000000</td>\n",
       "      <td>21964.000000</td>\n",
       "      <td>21964.0</td>\n",
       "      <td>21964.000000</td>\n",
       "    </tr>\n",
       "    <tr>\n",
       "      <th>mean</th>\n",
       "      <td>10981.500000</td>\n",
       "      <td>0.061220</td>\n",
       "      <td>0.283664</td>\n",
       "      <td>0.0</td>\n",
       "      <td>176.428929</td>\n",
       "    </tr>\n",
       "    <tr>\n",
       "      <th>std</th>\n",
       "      <td>6340.604992</td>\n",
       "      <td>0.223847</td>\n",
       "      <td>0.291062</td>\n",
       "      <td>0.0</td>\n",
       "      <td>498.435410</td>\n",
       "    </tr>\n",
       "    <tr>\n",
       "      <th>min</th>\n",
       "      <td>0.000000</td>\n",
       "      <td>-1.000000</td>\n",
       "      <td>0.000000</td>\n",
       "      <td>0.0</td>\n",
       "      <td>0.000000</td>\n",
       "    </tr>\n",
       "    <tr>\n",
       "      <th>25%</th>\n",
       "      <td>5490.750000</td>\n",
       "      <td>0.000000</td>\n",
       "      <td>0.000000</td>\n",
       "      <td>0.0</td>\n",
       "      <td>2.000000</td>\n",
       "    </tr>\n",
       "    <tr>\n",
       "      <th>50%</th>\n",
       "      <td>10981.500000</td>\n",
       "      <td>0.000000</td>\n",
       "      <td>0.200000</td>\n",
       "      <td>0.0</td>\n",
       "      <td>38.000000</td>\n",
       "    </tr>\n",
       "    <tr>\n",
       "      <th>75%</th>\n",
       "      <td>16472.250000</td>\n",
       "      <td>0.133333</td>\n",
       "      <td>0.470833</td>\n",
       "      <td>0.0</td>\n",
       "      <td>183.000000</td>\n",
       "    </tr>\n",
       "    <tr>\n",
       "      <th>max</th>\n",
       "      <td>21963.000000</td>\n",
       "      <td>1.000000</td>\n",
       "      <td>1.000000</td>\n",
       "      <td>0.0</td>\n",
       "      <td>17409.000000</td>\n",
       "    </tr>\n",
       "  </tbody>\n",
       "</table>\n",
       "</div>"
      ],
      "text/plain": [
       "         Unnamed: 0      polarity  subjectivity  favorite_count  retweet_count\n",
       "count  21964.000000  21964.000000  21964.000000         21964.0   21964.000000\n",
       "mean   10981.500000      0.061220      0.283664             0.0     176.428929\n",
       "std     6340.604992      0.223847      0.291062             0.0     498.435410\n",
       "min        0.000000     -1.000000      0.000000             0.0       0.000000\n",
       "25%     5490.750000      0.000000      0.000000             0.0       2.000000\n",
       "50%    10981.500000      0.000000      0.200000             0.0      38.000000\n",
       "75%    16472.250000      0.133333      0.470833             0.0     183.000000\n",
       "max    21963.000000      1.000000      1.000000             0.0   17409.000000"
      ]
     },
     "execution_count": 4,
     "metadata": {},
     "output_type": "execute_result"
    }
   ],
   "source": [
    "tweets.describe()"
   ]
  },
  {
   "cell_type": "code",
   "execution_count": 5,
   "metadata": {},
   "outputs": [
    {
     "data": {
      "text/html": [
       "<div>\n",
       "<style scoped>\n",
       "    .dataframe tbody tr th:only-of-type {\n",
       "        vertical-align: middle;\n",
       "    }\n",
       "\n",
       "    .dataframe tbody tr th {\n",
       "        vertical-align: top;\n",
       "    }\n",
       "\n",
       "    .dataframe thead th {\n",
       "        text-align: right;\n",
       "    }\n",
       "</style>\n",
       "<table border=\"1\" class=\"dataframe\">\n",
       "  <thead>\n",
       "    <tr style=\"text-align: right;\">\n",
       "      <th></th>\n",
       "      <th>Unnamed: 0</th>\n",
       "      <th>created_at</th>\n",
       "      <th>source</th>\n",
       "      <th>full_text</th>\n",
       "      <th>polarity</th>\n",
       "      <th>subjectivity</th>\n",
       "      <th>lang</th>\n",
       "      <th>favorite_count</th>\n",
       "      <th>retweet_count</th>\n",
       "      <th>possibly_sensitive</th>\n",
       "      <th>hashtags</th>\n",
       "      <th>user_mentions</th>\n",
       "      <th>place</th>\n",
       "    </tr>\n",
       "  </thead>\n",
       "  <tbody>\n",
       "    <tr>\n",
       "      <th>5</th>\n",
       "      <td>5</td>\n",
       "      <td>2022-08-07 22:31:02+00:00</td>\n",
       "      <td>['source']</td>\n",
       "      <td>RT @benedictrogers: We must not let this happe...</td>\n",
       "      <td>0.200000</td>\n",
       "      <td>0.500000</td>\n",
       "      <td>en</td>\n",
       "      <td>0</td>\n",
       "      <td>36</td>\n",
       "      <td>False</td>\n",
       "      <td>Taiwan</td>\n",
       "      <td>benedictrogers</td>\n",
       "      <td>Melbourne, Victoria</td>\n",
       "    </tr>\n",
       "    <tr>\n",
       "      <th>36</th>\n",
       "      <td>36</td>\n",
       "      <td>2022-08-07 22:26:25+00:00</td>\n",
       "      <td>['source']</td>\n",
       "      <td>RT @ChinaInfo777: #PinkFloyd Roger Waters tell...</td>\n",
       "      <td>0.000000</td>\n",
       "      <td>0.000000</td>\n",
       "      <td>en</td>\n",
       "      <td>0</td>\n",
       "      <td>5</td>\n",
       "      <td>False</td>\n",
       "      <td>PinkFloyd, Taiwan, China</td>\n",
       "      <td>ChinaInfo777</td>\n",
       "      <td>Florida, USA</td>\n",
       "    </tr>\n",
       "    <tr>\n",
       "      <th>39</th>\n",
       "      <td>39</td>\n",
       "      <td>2022-08-07 22:25:37+00:00</td>\n",
       "      <td>['source']</td>\n",
       "      <td>RT @WilliamYang120: \"For too long, #Taiwan has...</td>\n",
       "      <td>-0.025000</td>\n",
       "      <td>0.200000</td>\n",
       "      <td>en</td>\n",
       "      <td>0</td>\n",
       "      <td>84</td>\n",
       "      <td>False</td>\n",
       "      <td>Taiwan</td>\n",
       "      <td>WilliamYang120</td>\n",
       "      <td>Hong Kong</td>\n",
       "    </tr>\n",
       "    <tr>\n",
       "      <th>43</th>\n",
       "      <td>43</td>\n",
       "      <td>2022-08-07 22:25:05+00:00</td>\n",
       "      <td>['source']</td>\n",
       "      <td>RT @odisseoisback: #Corfu #Greece🇬🇷\\n#Summer #...</td>\n",
       "      <td>0.000000</td>\n",
       "      <td>0.000000</td>\n",
       "      <td>en</td>\n",
       "      <td>0</td>\n",
       "      <td>2</td>\n",
       "      <td>False</td>\n",
       "      <td>Corfu, Greece, Summer, Beaches, Travel, Excurs...</td>\n",
       "      <td>odisseoisback</td>\n",
       "      <td>Paris</td>\n",
       "    </tr>\n",
       "    <tr>\n",
       "      <th>48</th>\n",
       "      <td>48</td>\n",
       "      <td>2022-08-07 22:24:44+00:00</td>\n",
       "      <td>['source']</td>\n",
       "      <td>RT @benedictrogers: We must not let this happe...</td>\n",
       "      <td>0.200000</td>\n",
       "      <td>0.500000</td>\n",
       "      <td>en</td>\n",
       "      <td>0</td>\n",
       "      <td>36</td>\n",
       "      <td>False</td>\n",
       "      <td>Taiwan</td>\n",
       "      <td>benedictrogers</td>\n",
       "      <td>Hong Kong</td>\n",
       "    </tr>\n",
       "    <tr>\n",
       "      <th>...</th>\n",
       "      <td>...</td>\n",
       "      <td>...</td>\n",
       "      <td>...</td>\n",
       "      <td>...</td>\n",
       "      <td>...</td>\n",
       "      <td>...</td>\n",
       "      <td>...</td>\n",
       "      <td>...</td>\n",
       "      <td>...</td>\n",
       "      <td>...</td>\n",
       "      <td>...</td>\n",
       "      <td>...</td>\n",
       "      <td>...</td>\n",
       "    </tr>\n",
       "    <tr>\n",
       "      <th>21945</th>\n",
       "      <td>21945</td>\n",
       "      <td>2022-08-06 18:04:09+00:00</td>\n",
       "      <td>['source']</td>\n",
       "      <td>RT @jenniferatntd: Head of #Taiwan's #missile ...</td>\n",
       "      <td>-0.200000</td>\n",
       "      <td>0.400000</td>\n",
       "      <td>en</td>\n",
       "      <td>0</td>\n",
       "      <td>99</td>\n",
       "      <td>False</td>\n",
       "      <td>Taiwan, missile</td>\n",
       "      <td>jenniferatntd</td>\n",
       "      <td>Land of Ethan South Dakota</td>\n",
       "    </tr>\n",
       "    <tr>\n",
       "      <th>21953</th>\n",
       "      <td>21953</td>\n",
       "      <td>2022-08-06 18:03:48+00:00</td>\n",
       "      <td>['source']</td>\n",
       "      <td>Minister Wu is crystal clear in his @BBCNews i...</td>\n",
       "      <td>0.158333</td>\n",
       "      <td>0.419444</td>\n",
       "      <td>en</td>\n",
       "      <td>0</td>\n",
       "      <td>0</td>\n",
       "      <td>False</td>\n",
       "      <td>Taiwan, StandWithTaiwan, DefendDemocracy</td>\n",
       "      <td>BBCNews, SpeakerPelosi</td>\n",
       "      <td>Toronto, Canada</td>\n",
       "    </tr>\n",
       "    <tr>\n",
       "      <th>21954</th>\n",
       "      <td>21954</td>\n",
       "      <td>2022-08-06 18:03:47+00:00</td>\n",
       "      <td>['source']</td>\n",
       "      <td>RT @SpokespersonCHN: #PLA Live-fire military d...</td>\n",
       "      <td>-0.100000</td>\n",
       "      <td>0.250000</td>\n",
       "      <td>en</td>\n",
       "      <td>0</td>\n",
       "      <td>405</td>\n",
       "      <td>True</td>\n",
       "      <td>PLA, Taiwan</td>\n",
       "      <td>SpokespersonCHN</td>\n",
       "      <td>Driver</td>\n",
       "    </tr>\n",
       "    <tr>\n",
       "      <th>21956</th>\n",
       "      <td>21956</td>\n",
       "      <td>2022-08-06 18:03:33+00:00</td>\n",
       "      <td>['source']</td>\n",
       "      <td>RT @jenniferatntd: Head of #Taiwan's #missile ...</td>\n",
       "      <td>-0.200000</td>\n",
       "      <td>0.400000</td>\n",
       "      <td>en</td>\n",
       "      <td>0</td>\n",
       "      <td>99</td>\n",
       "      <td>False</td>\n",
       "      <td>Taiwan, missile</td>\n",
       "      <td>jenniferatntd</td>\n",
       "      <td>Northern Virginia</td>\n",
       "    </tr>\n",
       "    <tr>\n",
       "      <th>21960</th>\n",
       "      <td>21960</td>\n",
       "      <td>2022-08-06 18:03:27+00:00</td>\n",
       "      <td>['source']</td>\n",
       "      <td>RT @IndoPac_Info: A good infographic of #China...</td>\n",
       "      <td>0.700000</td>\n",
       "      <td>0.600000</td>\n",
       "      <td>en</td>\n",
       "      <td>0</td>\n",
       "      <td>183</td>\n",
       "      <td>False</td>\n",
       "      <td>China, Taiwan, ChinaTaiwanCrisis</td>\n",
       "      <td>IndoPac_Info</td>\n",
       "      <td>Gelendzhik</td>\n",
       "    </tr>\n",
       "  </tbody>\n",
       "</table>\n",
       "<p>1976 rows × 13 columns</p>\n",
       "</div>"
      ],
      "text/plain": [
       "       Unnamed: 0                 created_at      source  \\\n",
       "5               5  2022-08-07 22:31:02+00:00  ['source']   \n",
       "36             36  2022-08-07 22:26:25+00:00  ['source']   \n",
       "39             39  2022-08-07 22:25:37+00:00  ['source']   \n",
       "43             43  2022-08-07 22:25:05+00:00  ['source']   \n",
       "48             48  2022-08-07 22:24:44+00:00  ['source']   \n",
       "...           ...                        ...         ...   \n",
       "21945       21945  2022-08-06 18:04:09+00:00  ['source']   \n",
       "21953       21953  2022-08-06 18:03:48+00:00  ['source']   \n",
       "21954       21954  2022-08-06 18:03:47+00:00  ['source']   \n",
       "21956       21956  2022-08-06 18:03:33+00:00  ['source']   \n",
       "21960       21960  2022-08-06 18:03:27+00:00  ['source']   \n",
       "\n",
       "                                               full_text  polarity  \\\n",
       "5      RT @benedictrogers: We must not let this happe...  0.200000   \n",
       "36     RT @ChinaInfo777: #PinkFloyd Roger Waters tell...  0.000000   \n",
       "39     RT @WilliamYang120: \"For too long, #Taiwan has... -0.025000   \n",
       "43     RT @odisseoisback: #Corfu #Greece🇬🇷\\n#Summer #...  0.000000   \n",
       "48     RT @benedictrogers: We must not let this happe...  0.200000   \n",
       "...                                                  ...       ...   \n",
       "21945  RT @jenniferatntd: Head of #Taiwan's #missile ... -0.200000   \n",
       "21953  Minister Wu is crystal clear in his @BBCNews i...  0.158333   \n",
       "21954  RT @SpokespersonCHN: #PLA Live-fire military d... -0.100000   \n",
       "21956  RT @jenniferatntd: Head of #Taiwan's #missile ... -0.200000   \n",
       "21960  RT @IndoPac_Info: A good infographic of #China...  0.700000   \n",
       "\n",
       "       subjectivity lang  favorite_count  retweet_count possibly_sensitive  \\\n",
       "5          0.500000   en               0             36              False   \n",
       "36         0.000000   en               0              5              False   \n",
       "39         0.200000   en               0             84              False   \n",
       "43         0.000000   en               0              2              False   \n",
       "48         0.500000   en               0             36              False   \n",
       "...             ...  ...             ...            ...                ...   \n",
       "21945      0.400000   en               0             99              False   \n",
       "21953      0.419444   en               0              0              False   \n",
       "21954      0.250000   en               0            405               True   \n",
       "21956      0.400000   en               0             99              False   \n",
       "21960      0.600000   en               0            183              False   \n",
       "\n",
       "                                                hashtags  \\\n",
       "5                                                 Taiwan   \n",
       "36                              PinkFloyd, Taiwan, China   \n",
       "39                                                Taiwan   \n",
       "43     Corfu, Greece, Summer, Beaches, Travel, Excurs...   \n",
       "48                                                Taiwan   \n",
       "...                                                  ...   \n",
       "21945                                    Taiwan, missile   \n",
       "21953           Taiwan, StandWithTaiwan, DefendDemocracy   \n",
       "21954                                        PLA, Taiwan   \n",
       "21956                                    Taiwan, missile   \n",
       "21960                   China, Taiwan, ChinaTaiwanCrisis   \n",
       "\n",
       "                user_mentions                         place  \n",
       "5              benedictrogers           Melbourne, Victoria  \n",
       "36               ChinaInfo777                  Florida, USA  \n",
       "39             WilliamYang120                     Hong Kong  \n",
       "43              odisseoisback                         Paris  \n",
       "48             benedictrogers                     Hong Kong  \n",
       "...                       ...                           ...  \n",
       "21945           jenniferatntd   Land of Ethan South Dakota   \n",
       "21953  BBCNews, SpeakerPelosi               Toronto, Canada  \n",
       "21954         SpokespersonCHN                        Driver  \n",
       "21956           jenniferatntd             Northern Virginia  \n",
       "21960            IndoPac_Info                    Gelendzhik  \n",
       "\n",
       "[1976 rows x 13 columns]"
      ]
     },
     "execution_count": 5,
     "metadata": {},
     "output_type": "execute_result"
    }
   ],
   "source": [
    "tweets.dropna()"
   ]
  },
  {
   "cell_type": "code",
   "execution_count": 6,
   "metadata": {},
   "outputs": [],
   "source": [
    "# Form a new data frame (named cleanTweet), containing columns  𝐜𝐥𝐞𝐚𝐧-𝐭𝐞𝐱𝐭  and  𝐩𝐨𝐥𝐚𝐫𝐢𝐭𝐲 .\n",
    "clean_tweet = pd.DataFrame(columns=['full_text','polarity'])\n",
    "clean_tweet['full_text'] =  tweets['full_text'].to_list()\n",
    "clean_tweet['polarity'] =  tweets['polarity'].to_list()"
   ]
  },
  {
   "cell_type": "markdown",
   "metadata": {},
   "source": [
    "Check the Polarity of text"
   ]
  },
  {
   "cell_type": "code",
   "execution_count": 7,
   "metadata": {},
   "outputs": [
    {
     "name": "stdout",
     "output_type": "stream",
     "text": [
      "<class 'pandas.core.frame.DataFrame'>\n",
      "RangeIndex: 21964 entries, 0 to 21963\n",
      "Data columns (total 2 columns):\n",
      " #   Column     Non-Null Count  Dtype  \n",
      "---  ------     --------------  -----  \n",
      " 0   full_text  21964 non-null  object \n",
      " 1   polarity   21964 non-null  float64\n",
      "dtypes: float64(1), object(1)\n",
      "memory usage: 343.3+ KB\n"
     ]
    }
   ],
   "source": [
    "clean_tweet.info()"
   ]
  },
  {
   "cell_type": "markdown",
   "metadata": {},
   "source": [
    "Sentiment of Full text"
   ]
  },
  {
   "cell_type": "code",
   "execution_count": 8,
   "metadata": {},
   "outputs": [],
   "source": [
    "# depending on the value of p, a string 'positive', 'negative' or 'neutral'.\n",
    "def text_category(p:float)->str:\n",
    "    if(p > 0):\n",
    "        return \"positive\"\n",
    "    elif(p < 0):\n",
    "        return \"negative\"\n",
    "    else:\n",
    "        return \"neutral\""
   ]
  },
  {
   "cell_type": "markdown",
   "metadata": {},
   "source": [
    "change the Polarity to Score"
   ]
  },
  {
   "cell_type": "code",
   "execution_count": 9,
   "metadata": {},
   "outputs": [
    {
     "data": {
      "text/html": [
       "<div>\n",
       "<style scoped>\n",
       "    .dataframe tbody tr th:only-of-type {\n",
       "        vertical-align: middle;\n",
       "    }\n",
       "\n",
       "    .dataframe tbody tr th {\n",
       "        vertical-align: top;\n",
       "    }\n",
       "\n",
       "    .dataframe thead th {\n",
       "        text-align: right;\n",
       "    }\n",
       "</style>\n",
       "<table border=\"1\" class=\"dataframe\">\n",
       "  <thead>\n",
       "    <tr style=\"text-align: right;\">\n",
       "      <th></th>\n",
       "      <th>full_text</th>\n",
       "      <th>polarity</th>\n",
       "      <th>score</th>\n",
       "    </tr>\n",
       "  </thead>\n",
       "  <tbody>\n",
       "    <tr>\n",
       "      <th>0</th>\n",
       "      <td>RT @i_ameztoy: Extra random image (I):\\n\\nLets...</td>\n",
       "      <td>-1.250000e-01</td>\n",
       "      <td>negative</td>\n",
       "    </tr>\n",
       "    <tr>\n",
       "      <th>1</th>\n",
       "      <td>RT @IndoPac_Info: #China's media explains the ...</td>\n",
       "      <td>-1.000000e-01</td>\n",
       "      <td>negative</td>\n",
       "    </tr>\n",
       "    <tr>\n",
       "      <th>2</th>\n",
       "      <td>China even cut off communication, they don't a...</td>\n",
       "      <td>0.000000e+00</td>\n",
       "      <td>neutral</td>\n",
       "    </tr>\n",
       "    <tr>\n",
       "      <th>3</th>\n",
       "      <td>Putin to #XiJinping : I told you my friend, Ta...</td>\n",
       "      <td>1.000000e-01</td>\n",
       "      <td>positive</td>\n",
       "    </tr>\n",
       "    <tr>\n",
       "      <th>4</th>\n",
       "      <td>RT @ChinaUncensored: I’m sorry, I thought Taiw...</td>\n",
       "      <td>-6.938894e-18</td>\n",
       "      <td>negative</td>\n",
       "    </tr>\n",
       "  </tbody>\n",
       "</table>\n",
       "</div>"
      ],
      "text/plain": [
       "                                           full_text      polarity     score\n",
       "0  RT @i_ameztoy: Extra random image (I):\\n\\nLets... -1.250000e-01  negative\n",
       "1  RT @IndoPac_Info: #China's media explains the ... -1.000000e-01  negative\n",
       "2  China even cut off communication, they don't a...  0.000000e+00   neutral\n",
       "3  Putin to #XiJinping : I told you my friend, Ta...  1.000000e-01  positive\n",
       "4  RT @ChinaUncensored: I’m sorry, I thought Taiw... -6.938894e-18  negative"
      ]
     },
     "execution_count": 9,
     "metadata": {},
     "output_type": "execute_result"
    }
   ],
   "source": [
    "clean_tweet['score'] = clean_tweet['polarity'].apply(text_category)\n",
    "clean_tweet.head()"
   ]
  },
  {
   "cell_type": "markdown",
   "metadata": {},
   "source": [
    "visualisation of the sentiment"
   ]
  },
  {
   "cell_type": "code",
   "execution_count": 10,
   "metadata": {},
   "outputs": [
    {
     "data": {
      "text/plain": [
       "<AxesSubplot:>"
      ]
     },
     "execution_count": 10,
     "metadata": {},
     "output_type": "execute_result"
    },
    {
     "data": {
      "image/png": "[encoded data removed]",
      "text/plain": [
       "<Figure size 432x288 with 1 Axes>"
      ]
     },
     "metadata": {
      "needs_background": "light"
     },
     "output_type": "display_data"
    }
   ],
   "source": [
    "# ploting score using bar presentation\n",
    "clean_tweet['score'].value_counts().plot(kind='bar')"
   ]
  },
  {
   "cell_type": "markdown",
   "metadata": {},
   "source": [
    "Reset the index of 0 polarity"
   ]
  },
  {
   "cell_type": "code",
   "execution_count": 11,
   "metadata": {},
   "outputs": [
    {
     "data": {
      "text/html": [
       "<div>\n",
       "<style scoped>\n",
       "    .dataframe tbody tr th:only-of-type {\n",
       "        vertical-align: middle;\n",
       "    }\n",
       "\n",
       "    .dataframe tbody tr th {\n",
       "        vertical-align: top;\n",
       "    }\n",
       "\n",
       "    .dataframe thead th {\n",
       "        text-align: right;\n",
       "    }\n",
       "</style>\n",
       "<table border=\"1\" class=\"dataframe\">\n",
       "  <thead>\n",
       "    <tr style=\"text-align: right;\">\n",
       "      <th></th>\n",
       "      <th>full_text</th>\n",
       "      <th>polarity</th>\n",
       "      <th>score</th>\n",
       "    </tr>\n",
       "  </thead>\n",
       "  <tbody>\n",
       "    <tr>\n",
       "      <th>0</th>\n",
       "      <td>RT @i_ameztoy: Extra random image (I):\\n\\nLets...</td>\n",
       "      <td>-1.250000e-01</td>\n",
       "      <td>negative</td>\n",
       "    </tr>\n",
       "    <tr>\n",
       "      <th>1</th>\n",
       "      <td>RT @IndoPac_Info: #China's media explains the ...</td>\n",
       "      <td>-1.000000e-01</td>\n",
       "      <td>negative</td>\n",
       "    </tr>\n",
       "    <tr>\n",
       "      <th>2</th>\n",
       "      <td>Putin to #XiJinping : I told you my friend, Ta...</td>\n",
       "      <td>1.000000e-01</td>\n",
       "      <td>positive</td>\n",
       "    </tr>\n",
       "    <tr>\n",
       "      <th>3</th>\n",
       "      <td>RT @ChinaUncensored: I’m sorry, I thought Taiw...</td>\n",
       "      <td>-6.938894e-18</td>\n",
       "      <td>negative</td>\n",
       "    </tr>\n",
       "    <tr>\n",
       "      <th>4</th>\n",
       "      <td>RT @benedictrogers: We must not let this happe...</td>\n",
       "      <td>2.000000e-01</td>\n",
       "      <td>positive</td>\n",
       "    </tr>\n",
       "  </tbody>\n",
       "</table>\n",
       "</div>"
      ],
      "text/plain": [
       "                                           full_text      polarity     score\n",
       "0  RT @i_ameztoy: Extra random image (I):\\n\\nLets... -1.250000e-01  negative\n",
       "1  RT @IndoPac_Info: #China's media explains the ... -1.000000e-01  negative\n",
       "2  Putin to #XiJinping : I told you my friend, Ta...  1.000000e-01  positive\n",
       "3  RT @ChinaUncensored: I’m sorry, I thought Taiw... -6.938894e-18  negative\n",
       "4  RT @benedictrogers: We must not let this happe...  2.000000e-01  positive"
      ]
     },
     "execution_count": 11,
     "metadata": {},
     "output_type": "execute_result"
    }
   ],
   "source": [
    "# Remove rows from cleanTweet where  𝐩𝐨𝐥𝐚𝐫𝐢𝐭𝐲=0  \n",
    "# (i.e where  𝐬𝐜𝐨𝐫𝐞  = Neutral) and reset the frame index.\n",
    "clean_tweet.drop(clean_tweet[clean_tweet['score']==\"neutral\"].index, inplace=True)\n",
    "clean_tweet.reset_index(drop=True, inplace=True)\n",
    "clean_tweet.head()"
   ]
  },
  {
   "cell_type": "markdown",
   "metadata": {},
   "source": [
    "Map the score with score"
   ]
  },
  {
   "cell_type": "code",
   "execution_count": 12,
   "metadata": {},
   "outputs": [],
   "source": [
    "# Construct a column  𝐬𝐜𝐨𝐫𝐞𝐦𝐚𝐩  Use the mapping \n",
    "# {'positive':1, 'negative':0} on the  𝐬𝐜𝐨𝐫𝐞  column\n",
    "def scoremap_category(score:str)->int:\n",
    "    if(score == \"positive\"):\n",
    "        return 1\n",
    "    else:\n",
    "        return 0"
   ]
  },
  {
   "cell_type": "code",
   "execution_count": 13,
   "metadata": {},
   "outputs": [
    {
     "data": {
      "text/html": [
       "<div>\n",
       "<style scoped>\n",
       "    .dataframe tbody tr th:only-of-type {\n",
       "        vertical-align: middle;\n",
       "    }\n",
       "\n",
       "    .dataframe tbody tr th {\n",
       "        vertical-align: top;\n",
       "    }\n",
       "\n",
       "    .dataframe thead th {\n",
       "        text-align: right;\n",
       "    }\n",
       "</style>\n",
       "<table border=\"1\" class=\"dataframe\">\n",
       "  <thead>\n",
       "    <tr style=\"text-align: right;\">\n",
       "      <th></th>\n",
       "      <th>full_text</th>\n",
       "      <th>polarity</th>\n",
       "      <th>score</th>\n",
       "      <th>scoremap</th>\n",
       "    </tr>\n",
       "  </thead>\n",
       "  <tbody>\n",
       "    <tr>\n",
       "      <th>0</th>\n",
       "      <td>RT @i_ameztoy: Extra random image (I):\\n\\nLets...</td>\n",
       "      <td>-1.250000e-01</td>\n",
       "      <td>negative</td>\n",
       "      <td>0</td>\n",
       "    </tr>\n",
       "    <tr>\n",
       "      <th>1</th>\n",
       "      <td>RT @IndoPac_Info: #China's media explains the ...</td>\n",
       "      <td>-1.000000e-01</td>\n",
       "      <td>negative</td>\n",
       "      <td>0</td>\n",
       "    </tr>\n",
       "    <tr>\n",
       "      <th>2</th>\n",
       "      <td>Putin to #XiJinping : I told you my friend, Ta...</td>\n",
       "      <td>1.000000e-01</td>\n",
       "      <td>positive</td>\n",
       "      <td>1</td>\n",
       "    </tr>\n",
       "    <tr>\n",
       "      <th>3</th>\n",
       "      <td>RT @ChinaUncensored: I’m sorry, I thought Taiw...</td>\n",
       "      <td>-6.938894e-18</td>\n",
       "      <td>negative</td>\n",
       "      <td>0</td>\n",
       "    </tr>\n",
       "    <tr>\n",
       "      <th>4</th>\n",
       "      <td>RT @benedictrogers: We must not let this happe...</td>\n",
       "      <td>2.000000e-01</td>\n",
       "      <td>positive</td>\n",
       "      <td>1</td>\n",
       "    </tr>\n",
       "  </tbody>\n",
       "</table>\n",
       "</div>"
      ],
      "text/plain": [
       "                                           full_text      polarity     score  \\\n",
       "0  RT @i_ameztoy: Extra random image (I):\\n\\nLets... -1.250000e-01  negative   \n",
       "1  RT @IndoPac_Info: #China's media explains the ... -1.000000e-01  negative   \n",
       "2  Putin to #XiJinping : I told you my friend, Ta...  1.000000e-01  positive   \n",
       "3  RT @ChinaUncensored: I’m sorry, I thought Taiw... -6.938894e-18  negative   \n",
       "4  RT @benedictrogers: We must not let this happe...  2.000000e-01  positive   \n",
       "\n",
       "   scoremap  \n",
       "0         0  \n",
       "1         0  \n",
       "2         1  \n",
       "3         0  \n",
       "4         1  "
      ]
     },
     "execution_count": 13,
     "metadata": {},
     "output_type": "execute_result"
    }
   ],
   "source": [
    "clean_tweet['scoremap'] = clean_tweet['score'].apply(scoremap_category)\n",
    "clean_tweet.head()"
   ]
  },
  {
   "cell_type": "code",
   "execution_count": 14,
   "metadata": {},
   "outputs": [
    {
     "data": {
      "text/plain": [
       "<AxesSubplot:>"
      ]
     },
     "execution_count": 14,
     "metadata": {},
     "output_type": "execute_result"
    },
    {
     "data": {
      "image/png": "[encoded data removed]",
      "text/plain": [
       "<Figure size 432x288 with 1 Axes>"
      ]
     },
     "metadata": {
      "needs_background": "light"
     },
     "output_type": "display_data"
    }
   ],
   "source": [
    "clean_tweet['score'].value_counts().plot(kind='bar')"
   ]
  },
  {
   "cell_type": "code",
   "execution_count": 15,
   "metadata": {},
   "outputs": [
    {
     "data": {
      "text/plain": [
       "<AxesSubplot:ylabel='score'>"
      ]
     },
     "execution_count": 15,
     "metadata": {},
     "output_type": "execute_result"
    },
    {
     "data": {
      "image/png": "[encoded data removed]",
      "text/plain": [
       "<Figure size 432x288 with 1 Axes>"
      ]
     },
     "metadata": {},
     "output_type": "display_data"
    }
   ],
   "source": [
    "clean_tweet['score'].value_counts().plot(kind='pie')"
   ]
  },
  {
   "cell_type": "code",
   "execution_count": 16,
   "metadata": {},
   "outputs": [],
   "source": [
    "# Create feature and target variables (X,y) from  𝐜𝐥𝐞𝐚𝐧-𝐭𝐞𝐱𝐭\n",
    "# and  𝐬𝐜𝐨𝐫𝐞𝐦𝐚𝐩  columns respectively\n",
    "X = clean_tweet['full_text'].values\n",
    "Y = clean_tweet['scoremap'].values"
   ]
  },
  {
   "cell_type": "markdown",
   "metadata": {},
   "source": [
    "Preprocess full_text"
   ]
  },
  {
   "cell_type": "code",
   "execution_count": 17,
   "metadata": {},
   "outputs": [],
   "source": [
    "tweets.insert(4,column = 'clean',value = tweets['full_text'])"
   ]
  },
  {
   "cell_type": "code",
   "execution_count": 18,
   "metadata": {},
   "outputs": [
    {
     "name": "stdout",
     "output_type": "stream",
     "text": [
      "Requirement already satisfied: emoji in /home/success/anaconda3/lib/python3.9/site-packages (2.0.0)\n",
      "Note: you may need to restart the kernel to use updated packages.\n"
     ]
    }
   ],
   "source": [
    "#pip install emoji"
   ]
  },
  {
   "cell_type": "code",
   "execution_count": 39,
   "metadata": {},
   "outputs": [
    {
     "data": {
      "text/html": [
       "<div>\n",
       "<style scoped>\n",
       "    .dataframe tbody tr th:only-of-type {\n",
       "        vertical-align: middle;\n",
       "    }\n",
       "\n",
       "    .dataframe tbody tr th {\n",
       "        vertical-align: top;\n",
       "    }\n",
       "\n",
       "    .dataframe thead th {\n",
       "        text-align: right;\n",
       "    }\n",
       "</style>\n",
       "<table border=\"1\" class=\"dataframe\">\n",
       "  <thead>\n",
       "    <tr style=\"text-align: right;\">\n",
       "      <th></th>\n",
       "      <th>Unnamed: 0</th>\n",
       "      <th>created_at</th>\n",
       "      <th>source</th>\n",
       "      <th>full_text</th>\n",
       "      <th>clean</th>\n",
       "      <th>polarity</th>\n",
       "      <th>subjectivity</th>\n",
       "      <th>lang</th>\n",
       "      <th>favorite_count</th>\n",
       "      <th>retweet_count</th>\n",
       "      <th>possibly_sensitive</th>\n",
       "      <th>hashtags</th>\n",
       "      <th>user_mentions</th>\n",
       "      <th>place</th>\n",
       "    </tr>\n",
       "  </thead>\n",
       "  <tbody>\n",
       "    <tr>\n",
       "      <th>0</th>\n",
       "      <td>0</td>\n",
       "      <td>2022-08-07 22:31:20+00:00</td>\n",
       "      <td>['source']</td>\n",
       "      <td>RT @i_ameztoy: Extra random image (I):\\n\\nLets...</td>\n",
       "      <td>extra random image  i  focus in one very spec...</td>\n",
       "      <td>-1.250000e-01</td>\n",
       "      <td>0.190625</td>\n",
       "      <td>en</td>\n",
       "      <td>0</td>\n",
       "      <td>2</td>\n",
       "      <td>NaN</td>\n",
       "      <td>City</td>\n",
       "      <td>i_ameztoy</td>\n",
       "      <td>NaN</td>\n",
       "    </tr>\n",
       "    <tr>\n",
       "      <th>1</th>\n",
       "      <td>1</td>\n",
       "      <td>2022-08-07 22:31:16+00:00</td>\n",
       "      <td>['source']</td>\n",
       "      <td>RT @IndoPac_Info: #China's media explains the ...</td>\n",
       "      <td>china  s media the military for each area of ...</td>\n",
       "      <td>-1.000000e-01</td>\n",
       "      <td>0.100000</td>\n",
       "      <td>en</td>\n",
       "      <td>0</td>\n",
       "      <td>201</td>\n",
       "      <td>NaN</td>\n",
       "      <td>China, Taiwan</td>\n",
       "      <td>IndoPac_Info</td>\n",
       "      <td>NaN</td>\n",
       "    </tr>\n",
       "    <tr>\n",
       "      <th>2</th>\n",
       "      <td>2</td>\n",
       "      <td>2022-08-07 22:31:07+00:00</td>\n",
       "      <td>['source']</td>\n",
       "      <td>China even cut off communication, they don't a...</td>\n",
       "      <td>china even cut off communication  they don  t ...</td>\n",
       "      <td>0.000000e+00</td>\n",
       "      <td>0.000000</td>\n",
       "      <td>en</td>\n",
       "      <td>0</td>\n",
       "      <td>0</td>\n",
       "      <td>NaN</td>\n",
       "      <td>XiJinping</td>\n",
       "      <td>ZelenskyyUa</td>\n",
       "      <td>Netherlands</td>\n",
       "    </tr>\n",
       "    <tr>\n",
       "      <th>3</th>\n",
       "      <td>3</td>\n",
       "      <td>2022-08-07 22:31:06+00:00</td>\n",
       "      <td>['source']</td>\n",
       "      <td>Putin to #XiJinping : I told you my friend, Ta...</td>\n",
       "      <td>to  i told you my friend  will be a vassal sta...</td>\n",
       "      <td>1.000000e-01</td>\n",
       "      <td>0.350000</td>\n",
       "      <td>en</td>\n",
       "      <td>0</td>\n",
       "      <td>0</td>\n",
       "      <td>NaN</td>\n",
       "      <td>XiJinping</td>\n",
       "      <td>NaN</td>\n",
       "      <td>Netherlands</td>\n",
       "    </tr>\n",
       "    <tr>\n",
       "      <th>4</th>\n",
       "      <td>4</td>\n",
       "      <td>2022-08-07 22:31:04+00:00</td>\n",
       "      <td>['source']</td>\n",
       "      <td>RT @ChinaUncensored: I’m sorry, I thought Taiw...</td>\n",
       "      <td>i ’ m sorry  i thought was an independent cou...</td>\n",
       "      <td>-6.938894e-18</td>\n",
       "      <td>0.556250</td>\n",
       "      <td>en</td>\n",
       "      <td>0</td>\n",
       "      <td>381</td>\n",
       "      <td>NaN</td>\n",
       "      <td>NaN</td>\n",
       "      <td>ChinaUncensored</td>\n",
       "      <td>Ayent, Schweiz</td>\n",
       "    </tr>\n",
       "  </tbody>\n",
       "</table>\n",
       "</div>"
      ],
      "text/plain": [
       "   Unnamed: 0                 created_at      source  \\\n",
       "0           0  2022-08-07 22:31:20+00:00  ['source']   \n",
       "1           1  2022-08-07 22:31:16+00:00  ['source']   \n",
       "2           2  2022-08-07 22:31:07+00:00  ['source']   \n",
       "3           3  2022-08-07 22:31:06+00:00  ['source']   \n",
       "4           4  2022-08-07 22:31:04+00:00  ['source']   \n",
       "\n",
       "                                           full_text  \\\n",
       "0  RT @i_ameztoy: Extra random image (I):\\n\\nLets...   \n",
       "1  RT @IndoPac_Info: #China's media explains the ...   \n",
       "2  China even cut off communication, they don't a...   \n",
       "3  Putin to #XiJinping : I told you my friend, Ta...   \n",
       "4  RT @ChinaUncensored: I’m sorry, I thought Taiw...   \n",
       "\n",
       "                                               clean      polarity  \\\n",
       "0   extra random image  i  focus in one very spec... -1.250000e-01   \n",
       "1   china  s media the military for each area of ... -1.000000e-01   \n",
       "2  china even cut off communication  they don  t ...  0.000000e+00   \n",
       "3  to  i told you my friend  will be a vassal sta...  1.000000e-01   \n",
       "4   i ’ m sorry  i thought was an independent cou... -6.938894e-18   \n",
       "\n",
       "   subjectivity lang  favorite_count  retweet_count possibly_sensitive  \\\n",
       "0      0.190625   en               0              2                NaN   \n",
       "1      0.100000   en               0            201                NaN   \n",
       "2      0.000000   en               0              0                NaN   \n",
       "3      0.350000   en               0              0                NaN   \n",
       "4      0.556250   en               0            381                NaN   \n",
       "\n",
       "        hashtags    user_mentions           place  \n",
       "0           City        i_ameztoy             NaN  \n",
       "1  China, Taiwan     IndoPac_Info             NaN  \n",
       "2      XiJinping      ZelenskyyUa     Netherlands  \n",
       "3      XiJinping              NaN     Netherlands  \n",
       "4            NaN  ChinaUncensored  Ayent, Schweiz  "
      ]
     },
     "execution_count": 39,
     "metadata": {},
     "output_type": "execute_result"
    }
   ],
   "source": [
    "#python library\n",
    "import string\n",
    "import re\n",
    "import emoji\n",
    "import nltk\n",
    "#nltk.download('words')\n",
    "word = set(nltk.corpus.words.words())\n",
    "#clean text data\n",
    "def find_clean(text):\n",
    "    text = re.sub(\"@[A-Za-z0-9]+\",\"\",text)\n",
    "    text = re.sub(r\"(?:\\@|http?\\://|https?\\://|www)\\S+\", \"\", text) \n",
    "    text = \" \".join(text.split())\n",
    "    text = ''.join(x for x in text if x not in emoji.distinct_emoji_list(text)) \n",
    "    text = text.replace(\"#\", \"\").replace(\"_\", \" \") \n",
    "    text = \" \".join(w for w in nltk.wordpunct_tokenize(text) \\\n",
    "         if w.lower() in words or not w.isalpha())\n",
    "    return text\n",
    "#preprocessing\n",
    "tweets['clean'] = tweets['full_text'].map(lambda x: find_clean(x))\n",
    "tweets['clean'] = tweets['clean'].apply(lambda x: x.lower())\n",
    "tweets['clean']= tweets['clean'].apply(lambda x: x.translate(str.maketrans(' ', ' ', string.punctuation)))\n",
    "tweets.head()"
   ]
  },
  {
   "cell_type": "markdown",
   "metadata": {},
   "source": [
    "SGDClassifier Model building using sklearn"
   ]
  },
  {
   "cell_type": "code",
   "execution_count": 40,
   "metadata": {},
   "outputs": [],
   "source": [
    "from sklearn.feature_extraction.text import CountVectorizer, TfidfTransformer\n",
    "from sklearn.decomposition import NMF, LatentDirichletAllocation\n",
    "from sklearn.linear_model import SGDClassifier\n",
    "from sklearn.model_selection import train_test_split\n",
    "from scipy.sparse import csr_matrix\n",
    "import numpy as np"
   ]
  },
  {
   "cell_type": "code",
   "execution_count": 43,
   "metadata": {},
   "outputs": [
    {
     "data": {
      "text/plain": [
       "CountVectorizer(ngram_range=(3, 3))"
      ]
     },
     "execution_count": 43,
     "metadata": {},
     "output_type": "execute_result"
    }
   ],
   "source": [
    "trigram_vectorizer = CountVectorizer(ngram_range=(3, 3))\n",
    "trigram_vectorizer.fit(X)"
   ]
  },
  {
   "cell_type": "code",
   "execution_count": 44,
   "metadata": {},
   "outputs": [],
   "source": [
    "X_train_trigram = trigram_vectorizer.transform(X)"
   ]
  },
  {
   "cell_type": "code",
   "execution_count": 45,
   "metadata": {},
   "outputs": [],
   "source": [
    "def train_and_show_scores(X: csr_matrix, y: np.array, title: str) -> None:\n",
    "    X_train, X_test, y_train, y_test = train_test_split(\n",
    "        X, y, train_size=0.75, stratify=y)\n",
    "    clf = SGDClassifier()\n",
    "    clf.fit(X_train, y_train)\n",
    "    train_score = clf.score(X_train, y_train)\n",
    "    test_score = clf.score(X_test, y_test)\n",
    "    print(f'{title}\\nTrain score: {round(train_score, 2)} ; test score: {round(test_score, 2)}\\n')"
   ]
  },
  {
   "cell_type": "markdown",
   "metadata": {},
   "source": [
    "Evaluate the trigram model"
   ]
  },
  {
   "cell_type": "code",
   "execution_count": 46,
   "metadata": {},
   "outputs": [
    {
     "name": "stdout",
     "output_type": "stream",
     "text": [
      "Trigram Counts\n",
      "Train score: 1.0 ; test score: 0.92\n",
      "\n"
     ]
    }
   ],
   "source": [
    "train_and_show_scores(X_train_trigram, Y, 'Trigram Counts')"
   ]
  },
  {
   "cell_type": "code",
   "execution_count": 22,
   "metadata": {},
   "outputs": [],
   "source": [
    "#finall"
   ]
  }
 ],
 "metadata": {
  "colab": {
   "collapsed_sections": [],
   "name": "Challenge_ Day2.ipynb",
   "provenance": []
  },
  "kernelspec": {
   "display_name": "Python 3 (ipykernel)",
   "language": "python",
   "name": "python3"
  },
  "language_info": {
   "codemirror_mode": {
    "name": "ipython",
    "version": 3
   },
   "file_extension": ".py",
   "mimetype": "text/x-python",
   "name": "python",
   "nbconvert_exporter": "python",
   "pygments_lexer": "ipython3",
   "version": "3.9.7"
  }
 },
 "nbformat": 4,
 "nbformat_minor": 1
}
